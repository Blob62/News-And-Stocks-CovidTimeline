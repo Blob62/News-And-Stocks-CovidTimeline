{
 "cells": [
  {
   "cell_type": "markdown",
   "metadata": {},
   "source": [
    "# TA - Entregable 1/Entregable 2\n",
    "\n",
    "Para nuestro proyecto, primero que nada necesitamos extraer la data historica de las principales indeces de los 5 países con más casos de coronavirus (al 06 de mayo del 2020):\n",
    "   \n",
    "    *Estados Unidos (S&P 500) \n",
    "    *Italia (FTSE-MIB)\n",
    "    *España (IBEX 35)\n",
    "    *Reino Unido (FTSE 100)\n",
    "    *Alemania (DAX)\n",
    "    \n",
    "Además, analizaremos el principal índice de Perú para comparar el comportamiento económico de estos países con la situación nacional:\n",
    "\n",
    "    *Perú (S&P/BVL)\n",
    " \n",
    "Esto lo haremos usando la información en la plataforma https://www.investing.com/instruments/HistoricalDataAjax. Sin embargo, en el caso de Perú la data histórica solo está disponible desde el año 2011, así que para este usaremos https://finance.yahoo.com/."
   ]
  },
  {
   "cell_type": "markdown",
   "metadata": {},
   "source": [
    "## Datasets financieras\n",
    "\n",
    "Nuestra data respecto a las bolsas de valores se dividirá en dos datasets principales:\n",
    "\n",
    "    *tendencias_19_20: valores de cierre diarios de cada país desde el 06 de mayo de 2019 hasta el 06 de mayo de 2020\n",
    "\n",
    "    *tendencias_dec_jul: valores de cierre diarios de cada país en el periodo del 01 de diciembre al 31 de julio desde el  \n",
    "    2006 hasta el año actual(en este último solo llegaaran hasta el día anterior al presente, por razones obvias)\n",
    "    \n",
    "Nota: los valores de los países están en diferentes unidades (monedas), pero dado que la comparación que buscamos hacer es de cada país sus propias tendencias en distintos periodos de tiempo, esto no es un problema."
   ]
  },
  {
   "cell_type": "markdown",
   "metadata": {},
   "source": [
    "### tendencias_19_20\n",
    "\n",
    "Descripción de tendencias_19_20:\n",
    "\n",
    "    *date: fecha de las operaciones, tipo datetime\n",
    "    *estados_unidos: valor de cierre del S&P 500 en la fecha indicada (en USD), tipo float\n",
    "    *italia: valor de cierre del FTSE-MIB en la fecha indicada (en EUR), tipo float\n",
    "    *españa: valor de cierre del IBEX 35 en la fecha indicada (en EUR), tipo float\n",
    "    *reino_unido: valor de cierre del FTSE 100 en la fecha indicada (en GBP), tipo float\n",
    "    *alemania: valor de cierre del DAX en la fecha indicada (en EUR), tipo float\n",
    "    *peru: valor de cierre del S&P/BVL en la fecha indicada (en PEN), tipo float    "
   ]
  },
  {
   "cell_type": "code",
   "execution_count": 1,
   "metadata": {},
   "outputs": [],
   "source": [
    "import requests\n",
    "from bs4 import BeautifulSoup\n",
    "import pandas as pd\n",
    "import json\n",
    "from pymongo import MongoClient"
   ]
  },
  {
   "cell_type": "markdown",
   "metadata": {},
   "source": [
    "Primero extraeremos la información de los índices disponibes en investing.com"
   ]
  },
  {
   "cell_type": "code",
   "execution_count": 2,
   "metadata": {},
   "outputs": [],
   "source": [
    "header = {\n",
    "  'User-Agent':'Mozilla/5.0 (Windows NT 10.0; Win64; x64) AppleWebKit/537.36 (KHTML, like Gecko) Chrome/81.0.4044.129 Safari/537.36' ,\n",
    "  'X-Requested-With': 'XMLHttpRequest'\n",
    "}\n",
    "\n",
    "llaves = {'ESTADOS_UNIDOS':['166','2030167','S&amp;P 500 Historical Data'],\n",
    "          'ITALIA':['177','2030177','FTSE MIB HistorialData'],\n",
    "          'ESPAÑA':['174','2030174','IBEX 35 Historical Data'],\n",
    "          'REINO_UNIDO':['27','2030166','FTSE 100 Historical Data'],\n",
    "          'ALEMANIA':['172','2030173','DAX Historical Data']}\n"
   ]
  },
  {
   "cell_type": "code",
   "execution_count": 3,
   "metadata": {},
   "outputs": [
    {
     "data": {
      "text/plain": [
       "5"
      ]
     },
     "execution_count": 3,
     "metadata": {},
     "output_type": "execute_result"
    }
   ],
   "source": [
    "url = \"https://www.investing.com/instruments/HistoricalDataAjax\"\n",
    "sopas = {}\n",
    "\n",
    "for key, item in llaves.items():\n",
    "    form = {'curr_id': item[0], 'smlID': item[1],'header': item[2], 'st_date': '05/07/2019',\n",
    "        'end_date': '05/06/2020', 'interval_sec': 'Daily', 'sort_col': 'date', 'sort_ord': 'DESC','action': 'historical_data'}\n",
    "    response = requests.post(url,data=form,headers=header).text.replace('\\n', '')\n",
    "    soup = BeautifulSoup(response,'html.parser')\n",
    "    sopas[key] = soup\n",
    "    \n",
    "len(sopas)"
   ]
  },
  {
   "cell_type": "code",
   "execution_count": 4,
   "metadata": {},
   "outputs": [],
   "source": [
    "info = {}\n",
    "\n",
    "for key, soup in sopas.items():\n",
    "    holder={'date':[], 'close': []}\n",
    "\n",
    "    table =soup.find(\"table\", id=\"curr_table\")\n",
    "    dataraw = table.tbody.find_all(\"tr\")\n",
    "    for data in dataraw:\n",
    "        cosas = data.find_all('td')\n",
    "        holder['date'].append(cosas[0].text)\n",
    "        holder['close'].append(cosas[1].text)\n",
    "        \n",
    "    info[key]=holder"
   ]
  },
  {
   "cell_type": "code",
   "execution_count": 5,
   "metadata": {},
   "outputs": [],
   "source": [
    "dfs_info={}\n",
    "\n",
    "for key, dicti in info.items():\n",
    "    df = pd.DataFrame(dicti)\n",
    "    dfs_info[key]=df"
   ]
  },
  {
   "cell_type": "code",
   "execution_count": 6,
   "metadata": {},
   "outputs": [
    {
     "data": {
      "text/plain": [
       "5"
      ]
     },
     "execution_count": 6,
     "metadata": {},
     "output_type": "execute_result"
    }
   ],
   "source": [
    "len(dfs_info)"
   ]
  },
  {
   "cell_type": "markdown",
   "metadata": {},
   "source": [
    "Veamos uno de los dataframes"
   ]
  },
  {
   "cell_type": "code",
   "execution_count": 7,
   "metadata": {},
   "outputs": [
    {
     "data": {
      "text/html": [
       "<div>\n",
       "<style scoped>\n",
       "    .dataframe tbody tr th:only-of-type {\n",
       "        vertical-align: middle;\n",
       "    }\n",
       "\n",
       "    .dataframe tbody tr th {\n",
       "        vertical-align: top;\n",
       "    }\n",
       "\n",
       "    .dataframe thead th {\n",
       "        text-align: right;\n",
       "    }\n",
       "</style>\n",
       "<table border=\"1\" class=\"dataframe\">\n",
       "  <thead>\n",
       "    <tr style=\"text-align: right;\">\n",
       "      <th></th>\n",
       "      <th>date</th>\n",
       "      <th>close</th>\n",
       "    </tr>\n",
       "  </thead>\n",
       "  <tbody>\n",
       "    <tr>\n",
       "      <th>0</th>\n",
       "      <td>May 06, 2020</td>\n",
       "      <td>17,159.31</td>\n",
       "    </tr>\n",
       "    <tr>\n",
       "      <th>1</th>\n",
       "      <td>May 05, 2020</td>\n",
       "      <td>17,387.38</td>\n",
       "    </tr>\n",
       "    <tr>\n",
       "      <th>2</th>\n",
       "      <td>May 04, 2020</td>\n",
       "      <td>17,035.61</td>\n",
       "    </tr>\n",
       "    <tr>\n",
       "      <th>3</th>\n",
       "      <td>Apr 30, 2020</td>\n",
       "      <td>17,690.49</td>\n",
       "    </tr>\n",
       "    <tr>\n",
       "      <th>4</th>\n",
       "      <td>Apr 29, 2020</td>\n",
       "      <td>18,067.29</td>\n",
       "    </tr>\n",
       "    <tr>\n",
       "      <th>...</th>\n",
       "      <td>...</td>\n",
       "      <td>...</td>\n",
       "    </tr>\n",
       "    <tr>\n",
       "      <th>248</th>\n",
       "      <td>May 13, 2019</td>\n",
       "      <td>20,593.72</td>\n",
       "    </tr>\n",
       "    <tr>\n",
       "      <th>249</th>\n",
       "      <td>May 10, 2019</td>\n",
       "      <td>20,874.78</td>\n",
       "    </tr>\n",
       "    <tr>\n",
       "      <th>250</th>\n",
       "      <td>May 09, 2019</td>\n",
       "      <td>20,817.16</td>\n",
       "    </tr>\n",
       "    <tr>\n",
       "      <th>251</th>\n",
       "      <td>May 08, 2019</td>\n",
       "      <td>21,203.86</td>\n",
       "    </tr>\n",
       "    <tr>\n",
       "      <th>252</th>\n",
       "      <td>May 07, 2019</td>\n",
       "      <td>21,219.14</td>\n",
       "    </tr>\n",
       "  </tbody>\n",
       "</table>\n",
       "<p>253 rows × 2 columns</p>\n",
       "</div>"
      ],
      "text/plain": [
       "             date      close\n",
       "0    May 06, 2020  17,159.31\n",
       "1    May 05, 2020  17,387.38\n",
       "2    May 04, 2020  17,035.61\n",
       "3    Apr 30, 2020  17,690.49\n",
       "4    Apr 29, 2020  18,067.29\n",
       "..            ...        ...\n",
       "248  May 13, 2019  20,593.72\n",
       "249  May 10, 2019  20,874.78\n",
       "250  May 09, 2019  20,817.16\n",
       "251  May 08, 2019  21,203.86\n",
       "252  May 07, 2019  21,219.14\n",
       "\n",
       "[253 rows x 2 columns]"
      ]
     },
     "execution_count": 7,
     "metadata": {},
     "output_type": "execute_result"
    }
   ],
   "source": [
    "dfs_info['ITALIA']"
   ]
  },
  {
   "cell_type": "markdown",
   "metadata": {},
   "source": [
    "Por sentido prácticos, es necesario establecer la columna 'date' como índice y de tipo datetime. Y a la columna 'close', ponerle el nombre del país respectivo y establecerlo como tipo float"
   ]
  },
  {
   "cell_type": "code",
   "execution_count": 8,
   "metadata": {},
   "outputs": [
    {
     "data": {
      "text/html": [
       "<div>\n",
       "<style scoped>\n",
       "    .dataframe tbody tr th:only-of-type {\n",
       "        vertical-align: middle;\n",
       "    }\n",
       "\n",
       "    .dataframe tbody tr th {\n",
       "        vertical-align: top;\n",
       "    }\n",
       "\n",
       "    .dataframe thead th {\n",
       "        text-align: right;\n",
       "    }\n",
       "</style>\n",
       "<table border=\"1\" class=\"dataframe\">\n",
       "  <thead>\n",
       "    <tr style=\"text-align: right;\">\n",
       "      <th></th>\n",
       "      <th>alemania</th>\n",
       "    </tr>\n",
       "    <tr>\n",
       "      <th>date</th>\n",
       "      <th></th>\n",
       "    </tr>\n",
       "  </thead>\n",
       "  <tbody>\n",
       "    <tr>\n",
       "      <th>2020-05-06</th>\n",
       "      <td>10606.20</td>\n",
       "    </tr>\n",
       "    <tr>\n",
       "      <th>2020-05-05</th>\n",
       "      <td>10729.46</td>\n",
       "    </tr>\n",
       "    <tr>\n",
       "      <th>2020-05-04</th>\n",
       "      <td>10466.80</td>\n",
       "    </tr>\n",
       "    <tr>\n",
       "      <th>2020-04-30</th>\n",
       "      <td>10861.64</td>\n",
       "    </tr>\n",
       "    <tr>\n",
       "      <th>2020-04-29</th>\n",
       "      <td>11107.74</td>\n",
       "    </tr>\n",
       "  </tbody>\n",
       "</table>\n",
       "</div>"
      ],
      "text/plain": [
       "            alemania\n",
       "date                \n",
       "2020-05-06  10606.20\n",
       "2020-05-05  10729.46\n",
       "2020-05-04  10466.80\n",
       "2020-04-30  10861.64\n",
       "2020-04-29  11107.74"
      ]
     },
     "execution_count": 8,
     "metadata": {},
     "output_type": "execute_result"
    }
   ],
   "source": [
    "dfs_list=[]\n",
    "for key, data in dfs_info.items():\n",
    "    \n",
    "    data['date'] = pd.to_datetime(data['date']) \n",
    "    data1 = data.set_index('date', drop=True)\n",
    "    data1.columns = [key.lower()]\n",
    "    \n",
    "    data1[key.lower()] = [float(x.replace(',','')) for x in data1[key.lower()]]\n",
    "    \n",
    "    dfs_list.append(data1)\n",
    "    \n",
    "data1.head()"
   ]
  },
  {
   "cell_type": "markdown",
   "metadata": {},
   "source": [
    "Ahora, extreeremos la información del índice de Perú"
   ]
  },
  {
   "cell_type": "code",
   "execution_count": 9,
   "metadata": {},
   "outputs": [],
   "source": [
    "from datetime import datetime, timedelta"
   ]
  },
  {
   "cell_type": "code",
   "execution_count": 10,
   "metadata": {},
   "outputs": [],
   "source": [
    "ticket_p = {'PERU':'^SPBLPGPT'}\n",
    "\n",
    "final_p = datetime(2020,5,7)\n",
    "hasta_p = int(final_p.timestamp())\n",
    "\n",
    "inicio_p = final_p - timedelta(days=366)\n",
    "desde_p = int(inicio_p.timestamp())\n",
    "\n",
    "intervalo_p='1d'\n",
    "\n",
    "url_base='https://query1.finance.yahoo.com/v7/finance/download/'"
   ]
  },
  {
   "cell_type": "code",
   "execution_count": 11,
   "metadata": {},
   "outputs": [
    {
     "data": {
      "text/html": [
       "<div>\n",
       "<style scoped>\n",
       "    .dataframe tbody tr th:only-of-type {\n",
       "        vertical-align: middle;\n",
       "    }\n",
       "\n",
       "    .dataframe tbody tr th {\n",
       "        vertical-align: top;\n",
       "    }\n",
       "\n",
       "    .dataframe thead th {\n",
       "        text-align: right;\n",
       "    }\n",
       "</style>\n",
       "<table border=\"1\" class=\"dataframe\">\n",
       "  <thead>\n",
       "    <tr style=\"text-align: right;\">\n",
       "      <th></th>\n",
       "      <th>Date</th>\n",
       "      <th>Open</th>\n",
       "      <th>High</th>\n",
       "      <th>Low</th>\n",
       "      <th>Close</th>\n",
       "      <th>Adj Close</th>\n",
       "      <th>Volume</th>\n",
       "    </tr>\n",
       "  </thead>\n",
       "  <tbody>\n",
       "    <tr>\n",
       "      <th>0</th>\n",
       "      <td>2019-05-07</td>\n",
       "      <td>20765.949219</td>\n",
       "      <td>20776.779297</td>\n",
       "      <td>20594.759766</td>\n",
       "      <td>20688.019531</td>\n",
       "      <td>20688.019531</td>\n",
       "      <td>0.0</td>\n",
       "    </tr>\n",
       "    <tr>\n",
       "      <th>1</th>\n",
       "      <td>2019-05-08</td>\n",
       "      <td>20694.269531</td>\n",
       "      <td>20701.529297</td>\n",
       "      <td>20430.449219</td>\n",
       "      <td>20438.560547</td>\n",
       "      <td>20438.560547</td>\n",
       "      <td>0.0</td>\n",
       "    </tr>\n",
       "    <tr>\n",
       "      <th>2</th>\n",
       "      <td>2019-05-09</td>\n",
       "      <td>20510.619141</td>\n",
       "      <td>20530.669922</td>\n",
       "      <td>20210.009766</td>\n",
       "      <td>20213.300781</td>\n",
       "      <td>20213.300781</td>\n",
       "      <td>0.0</td>\n",
       "    </tr>\n",
       "    <tr>\n",
       "      <th>3</th>\n",
       "      <td>2019-05-10</td>\n",
       "      <td>20216.349609</td>\n",
       "      <td>20216.349609</td>\n",
       "      <td>20046.519531</td>\n",
       "      <td>20093.300781</td>\n",
       "      <td>20093.300781</td>\n",
       "      <td>0.0</td>\n",
       "    </tr>\n",
       "    <tr>\n",
       "      <th>4</th>\n",
       "      <td>2019-05-13</td>\n",
       "      <td>20157.699219</td>\n",
       "      <td>20186.919922</td>\n",
       "      <td>19943.019531</td>\n",
       "      <td>19951.960938</td>\n",
       "      <td>19951.960938</td>\n",
       "      <td>0.0</td>\n",
       "    </tr>\n",
       "  </tbody>\n",
       "</table>\n",
       "</div>"
      ],
      "text/plain": [
       "        Date          Open          High           Low         Close  \\\n",
       "0 2019-05-07  20765.949219  20776.779297  20594.759766  20688.019531   \n",
       "1 2019-05-08  20694.269531  20701.529297  20430.449219  20438.560547   \n",
       "2 2019-05-09  20510.619141  20530.669922  20210.009766  20213.300781   \n",
       "3 2019-05-10  20216.349609  20216.349609  20046.519531  20093.300781   \n",
       "4 2019-05-13  20157.699219  20186.919922  19943.019531  19951.960938   \n",
       "\n",
       "      Adj Close  Volume  \n",
       "0  20688.019531     0.0  \n",
       "1  20438.560547     0.0  \n",
       "2  20213.300781     0.0  \n",
       "3  20093.300781     0.0  \n",
       "4  19951.960938     0.0  "
      ]
     },
     "execution_count": 11,
     "metadata": {},
     "output_type": "execute_result"
    }
   ],
   "source": [
    "url_p = url_base + ticket_p['PERU'] +'?period1=' + str(desde_p) + '&period2=' + str(hasta_p) + '&interval=' + intervalo_p + '&events=history'\n",
    "        \n",
    "df_p = pd.read_csv(url_p, parse_dates=['Date'])\n",
    "\n",
    "df_p.head()"
   ]
  },
  {
   "cell_type": "code",
   "execution_count": 12,
   "metadata": {},
   "outputs": [
    {
     "data": {
      "text/html": [
       "<div>\n",
       "<style scoped>\n",
       "    .dataframe tbody tr th:only-of-type {\n",
       "        vertical-align: middle;\n",
       "    }\n",
       "\n",
       "    .dataframe tbody tr th {\n",
       "        vertical-align: top;\n",
       "    }\n",
       "\n",
       "    .dataframe thead th {\n",
       "        text-align: right;\n",
       "    }\n",
       "</style>\n",
       "<table border=\"1\" class=\"dataframe\">\n",
       "  <thead>\n",
       "    <tr style=\"text-align: right;\">\n",
       "      <th></th>\n",
       "      <th>peru</th>\n",
       "    </tr>\n",
       "    <tr>\n",
       "      <th>date</th>\n",
       "      <th></th>\n",
       "    </tr>\n",
       "  </thead>\n",
       "  <tbody>\n",
       "    <tr>\n",
       "      <th>2019-05-07</th>\n",
       "      <td>20688.02</td>\n",
       "    </tr>\n",
       "    <tr>\n",
       "      <th>2019-05-08</th>\n",
       "      <td>20438.56</td>\n",
       "    </tr>\n",
       "    <tr>\n",
       "      <th>2019-05-09</th>\n",
       "      <td>20213.30</td>\n",
       "    </tr>\n",
       "    <tr>\n",
       "      <th>2019-05-10</th>\n",
       "      <td>20093.30</td>\n",
       "    </tr>\n",
       "    <tr>\n",
       "      <th>2019-05-13</th>\n",
       "      <td>19951.96</td>\n",
       "    </tr>\n",
       "    <tr>\n",
       "      <th>...</th>\n",
       "      <td>...</td>\n",
       "    </tr>\n",
       "    <tr>\n",
       "      <th>2020-04-30</th>\n",
       "      <td>14779.28</td>\n",
       "    </tr>\n",
       "    <tr>\n",
       "      <th>2020-05-01</th>\n",
       "      <td>NaN</td>\n",
       "    </tr>\n",
       "    <tr>\n",
       "      <th>2020-05-04</th>\n",
       "      <td>14722.30</td>\n",
       "    </tr>\n",
       "    <tr>\n",
       "      <th>2020-05-05</th>\n",
       "      <td>14900.48</td>\n",
       "    </tr>\n",
       "    <tr>\n",
       "      <th>2020-05-06</th>\n",
       "      <td>14953.76</td>\n",
       "    </tr>\n",
       "  </tbody>\n",
       "</table>\n",
       "<p>253 rows × 1 columns</p>\n",
       "</div>"
      ],
      "text/plain": [
       "                peru\n",
       "date                \n",
       "2019-05-07  20688.02\n",
       "2019-05-08  20438.56\n",
       "2019-05-09  20213.30\n",
       "2019-05-10  20093.30\n",
       "2019-05-13  19951.96\n",
       "...              ...\n",
       "2020-04-30  14779.28\n",
       "2020-05-01       NaN\n",
       "2020-05-04  14722.30\n",
       "2020-05-05  14900.48\n",
       "2020-05-06  14953.76\n",
       "\n",
       "[253 rows x 1 columns]"
      ]
     },
     "execution_count": 12,
     "metadata": {},
     "output_type": "execute_result"
    }
   ],
   "source": [
    "df_peru = df_p.copy()\n",
    "df_peru = df_peru.iloc[:,[0,4]]\n",
    "\n",
    "df_peru.columns = ['date','peru']\n",
    "df_peru['peru'] = [round(x,2) for x in df_peru['peru']]\n",
    "df_peru1 = df_peru.set_index('date')\n",
    "\n",
    "dfs_list.append(df_peru1)\n",
    "\n",
    "df_peru1"
   ]
  },
  {
   "cell_type": "markdown",
   "metadata": {},
   "source": [
    "Ahora que el df de Perú tiene el mismo formato que los otros, podemos concatenarlos"
   ]
  },
  {
   "cell_type": "code",
   "execution_count": 13,
   "metadata": {},
   "outputs": [
    {
     "data": {
      "text/html": [
       "<div>\n",
       "<style scoped>\n",
       "    .dataframe tbody tr th:only-of-type {\n",
       "        vertical-align: middle;\n",
       "    }\n",
       "\n",
       "    .dataframe tbody tr th {\n",
       "        vertical-align: top;\n",
       "    }\n",
       "\n",
       "    .dataframe thead th {\n",
       "        text-align: right;\n",
       "    }\n",
       "</style>\n",
       "<table border=\"1\" class=\"dataframe\">\n",
       "  <thead>\n",
       "    <tr style=\"text-align: right;\">\n",
       "      <th></th>\n",
       "      <th>estados_unidos</th>\n",
       "      <th>italia</th>\n",
       "      <th>españa</th>\n",
       "      <th>reino_unido</th>\n",
       "      <th>alemania</th>\n",
       "      <th>peru</th>\n",
       "    </tr>\n",
       "    <tr>\n",
       "      <th>date</th>\n",
       "      <th></th>\n",
       "      <th></th>\n",
       "      <th></th>\n",
       "      <th></th>\n",
       "      <th></th>\n",
       "      <th></th>\n",
       "    </tr>\n",
       "  </thead>\n",
       "  <tbody>\n",
       "    <tr>\n",
       "      <th>2019-05-07</th>\n",
       "      <td>2884.05</td>\n",
       "      <td>21219.14</td>\n",
       "      <td>9235.1</td>\n",
       "      <td>7260.47</td>\n",
       "      <td>12092.74</td>\n",
       "      <td>20688.02</td>\n",
       "    </tr>\n",
       "    <tr>\n",
       "      <th>2019-05-08</th>\n",
       "      <td>2879.42</td>\n",
       "      <td>21203.86</td>\n",
       "      <td>9227.0</td>\n",
       "      <td>7271.00</td>\n",
       "      <td>12179.93</td>\n",
       "      <td>20438.56</td>\n",
       "    </tr>\n",
       "    <tr>\n",
       "      <th>2019-05-09</th>\n",
       "      <td>2870.72</td>\n",
       "      <td>20817.16</td>\n",
       "      <td>9095.2</td>\n",
       "      <td>7207.41</td>\n",
       "      <td>11973.92</td>\n",
       "      <td>20213.30</td>\n",
       "    </tr>\n",
       "    <tr>\n",
       "      <th>2019-05-10</th>\n",
       "      <td>2881.40</td>\n",
       "      <td>20874.78</td>\n",
       "      <td>9117.5</td>\n",
       "      <td>7203.29</td>\n",
       "      <td>12059.83</td>\n",
       "      <td>20093.30</td>\n",
       "    </tr>\n",
       "    <tr>\n",
       "      <th>2019-05-13</th>\n",
       "      <td>2811.87</td>\n",
       "      <td>20593.72</td>\n",
       "      <td>9046.8</td>\n",
       "      <td>7163.68</td>\n",
       "      <td>11876.65</td>\n",
       "      <td>19951.96</td>\n",
       "    </tr>\n",
       "    <tr>\n",
       "      <th>...</th>\n",
       "      <td>...</td>\n",
       "      <td>...</td>\n",
       "      <td>...</td>\n",
       "      <td>...</td>\n",
       "      <td>...</td>\n",
       "      <td>...</td>\n",
       "    </tr>\n",
       "    <tr>\n",
       "      <th>2020-04-30</th>\n",
       "      <td>2912.43</td>\n",
       "      <td>17690.49</td>\n",
       "      <td>6922.3</td>\n",
       "      <td>5901.21</td>\n",
       "      <td>10861.64</td>\n",
       "      <td>14779.28</td>\n",
       "    </tr>\n",
       "    <tr>\n",
       "      <th>2020-05-01</th>\n",
       "      <td>2830.71</td>\n",
       "      <td>NaN</td>\n",
       "      <td>NaN</td>\n",
       "      <td>5763.06</td>\n",
       "      <td>NaN</td>\n",
       "      <td>NaN</td>\n",
       "    </tr>\n",
       "    <tr>\n",
       "      <th>2020-05-04</th>\n",
       "      <td>2842.74</td>\n",
       "      <td>17035.61</td>\n",
       "      <td>6673.3</td>\n",
       "      <td>5753.78</td>\n",
       "      <td>10466.80</td>\n",
       "      <td>14722.30</td>\n",
       "    </tr>\n",
       "    <tr>\n",
       "      <th>2020-05-05</th>\n",
       "      <td>2868.44</td>\n",
       "      <td>17387.38</td>\n",
       "      <td>6747.7</td>\n",
       "      <td>5849.42</td>\n",
       "      <td>10729.46</td>\n",
       "      <td>14900.48</td>\n",
       "    </tr>\n",
       "    <tr>\n",
       "      <th>2020-05-06</th>\n",
       "      <td>2848.42</td>\n",
       "      <td>17159.31</td>\n",
       "      <td>6671.7</td>\n",
       "      <td>5853.76</td>\n",
       "      <td>10606.20</td>\n",
       "      <td>14953.76</td>\n",
       "    </tr>\n",
       "  </tbody>\n",
       "</table>\n",
       "<p>259 rows × 6 columns</p>\n",
       "</div>"
      ],
      "text/plain": [
       "            estados_unidos    italia  españa  reino_unido  alemania      peru\n",
       "date                                                                         \n",
       "2019-05-07         2884.05  21219.14  9235.1      7260.47  12092.74  20688.02\n",
       "2019-05-08         2879.42  21203.86  9227.0      7271.00  12179.93  20438.56\n",
       "2019-05-09         2870.72  20817.16  9095.2      7207.41  11973.92  20213.30\n",
       "2019-05-10         2881.40  20874.78  9117.5      7203.29  12059.83  20093.30\n",
       "2019-05-13         2811.87  20593.72  9046.8      7163.68  11876.65  19951.96\n",
       "...                    ...       ...     ...          ...       ...       ...\n",
       "2020-04-30         2912.43  17690.49  6922.3      5901.21  10861.64  14779.28\n",
       "2020-05-01         2830.71       NaN     NaN      5763.06       NaN       NaN\n",
       "2020-05-04         2842.74  17035.61  6673.3      5753.78  10466.80  14722.30\n",
       "2020-05-05         2868.44  17387.38  6747.7      5849.42  10729.46  14900.48\n",
       "2020-05-06         2848.42  17159.31  6671.7      5853.76  10606.20  14953.76\n",
       "\n",
       "[259 rows x 6 columns]"
      ]
     },
     "execution_count": 13,
     "metadata": {},
     "output_type": "execute_result"
    }
   ],
   "source": [
    "tendencias = pd.concat(dfs_list,axis=1)\n",
    "\n",
    "tendencias"
   ]
  },
  {
   "cell_type": "code",
   "execution_count": 14,
   "metadata": {},
   "outputs": [
    {
     "name": "stdout",
     "output_type": "stream",
     "text": [
      "<class 'pandas.core.frame.DataFrame'>\n",
      "DatetimeIndex: 259 entries, 2019-05-07 to 2020-05-06\n",
      "Data columns (total 6 columns):\n",
      " #   Column          Non-Null Count  Dtype  \n",
      "---  ------          --------------  -----  \n",
      " 0   estados_unidos  253 non-null    float64\n",
      " 1   italia          253 non-null    float64\n",
      " 2   españa          256 non-null    float64\n",
      " 3   reino_unido     255 non-null    float64\n",
      " 4   alemania        252 non-null    float64\n",
      " 5   peru            247 non-null    float64\n",
      "dtypes: float64(6)\n",
      "memory usage: 14.2 KB\n"
     ]
    }
   ],
   "source": [
    "tendencias.info()"
   ]
  },
  {
   "cell_type": "markdown",
   "metadata": {},
   "source": [
    "Vemos que todas nuestras columnas tienen más de un valor nulo, esto se debe a que ya sea por un feriado o algún evento nacional, esa bolsa de valores no opero ese día.\n",
    "\n",
    "De hecho, ninguna bolsa de valores trabaja durante los fines de semana, por eso es que se pueden observar saltos consistentes de 2 días cada cierto intervalo de registrods. Sin embargo, por razones de continuidad al momento de hacer el análsis necesario, necesitamos agregar estos registros, y luego atribuirles valores."
   ]
  },
  {
   "cell_type": "markdown",
   "metadata": {},
   "source": [
    "Primero, nos encargaremos de agregar las fechas faltantes, y dado que estos son días en los que la bolsa no operó, el valor permanece igual al de la última fecha activa"
   ]
  },
  {
   "cell_type": "code",
   "execution_count": 15,
   "metadata": {},
   "outputs": [
    {
     "data": {
      "text/html": [
       "<div>\n",
       "<style scoped>\n",
       "    .dataframe tbody tr th:only-of-type {\n",
       "        vertical-align: middle;\n",
       "    }\n",
       "\n",
       "    .dataframe tbody tr th {\n",
       "        vertical-align: top;\n",
       "    }\n",
       "\n",
       "    .dataframe thead th {\n",
       "        text-align: right;\n",
       "    }\n",
       "</style>\n",
       "<table border=\"1\" class=\"dataframe\">\n",
       "  <thead>\n",
       "    <tr style=\"text-align: right;\">\n",
       "      <th></th>\n",
       "      <th>estados_unidos</th>\n",
       "      <th>italia</th>\n",
       "      <th>españa</th>\n",
       "      <th>reino_unido</th>\n",
       "      <th>alemania</th>\n",
       "      <th>peru</th>\n",
       "    </tr>\n",
       "    <tr>\n",
       "      <th>date</th>\n",
       "      <th></th>\n",
       "      <th></th>\n",
       "      <th></th>\n",
       "      <th></th>\n",
       "      <th></th>\n",
       "      <th></th>\n",
       "    </tr>\n",
       "  </thead>\n",
       "  <tbody>\n",
       "    <tr>\n",
       "      <th>2020-04-30</th>\n",
       "      <td>2912.43</td>\n",
       "      <td>17690.49</td>\n",
       "      <td>6922.3</td>\n",
       "      <td>5901.21</td>\n",
       "      <td>10861.64</td>\n",
       "      <td>14779.28</td>\n",
       "    </tr>\n",
       "    <tr>\n",
       "      <th>2020-05-01</th>\n",
       "      <td>2830.71</td>\n",
       "      <td>NaN</td>\n",
       "      <td>NaN</td>\n",
       "      <td>5763.06</td>\n",
       "      <td>NaN</td>\n",
       "      <td>NaN</td>\n",
       "    </tr>\n",
       "    <tr>\n",
       "      <th>2020-05-02</th>\n",
       "      <td>2830.71</td>\n",
       "      <td>NaN</td>\n",
       "      <td>NaN</td>\n",
       "      <td>5763.06</td>\n",
       "      <td>NaN</td>\n",
       "      <td>NaN</td>\n",
       "    </tr>\n",
       "    <tr>\n",
       "      <th>2020-05-03</th>\n",
       "      <td>2830.71</td>\n",
       "      <td>NaN</td>\n",
       "      <td>NaN</td>\n",
       "      <td>5763.06</td>\n",
       "      <td>NaN</td>\n",
       "      <td>NaN</td>\n",
       "    </tr>\n",
       "    <tr>\n",
       "      <th>2020-05-04</th>\n",
       "      <td>2842.74</td>\n",
       "      <td>17035.61</td>\n",
       "      <td>6673.3</td>\n",
       "      <td>5753.78</td>\n",
       "      <td>10466.80</td>\n",
       "      <td>14722.30</td>\n",
       "    </tr>\n",
       "    <tr>\n",
       "      <th>2020-05-05</th>\n",
       "      <td>2868.44</td>\n",
       "      <td>17387.38</td>\n",
       "      <td>6747.7</td>\n",
       "      <td>5849.42</td>\n",
       "      <td>10729.46</td>\n",
       "      <td>14900.48</td>\n",
       "    </tr>\n",
       "    <tr>\n",
       "      <th>2020-05-06</th>\n",
       "      <td>2848.42</td>\n",
       "      <td>17159.31</td>\n",
       "      <td>6671.7</td>\n",
       "      <td>5853.76</td>\n",
       "      <td>10606.20</td>\n",
       "      <td>14953.76</td>\n",
       "    </tr>\n",
       "  </tbody>\n",
       "</table>\n",
       "</div>"
      ],
      "text/plain": [
       "            estados_unidos    italia  españa  reino_unido  alemania      peru\n",
       "date                                                                         \n",
       "2020-04-30         2912.43  17690.49  6922.3      5901.21  10861.64  14779.28\n",
       "2020-05-01         2830.71       NaN     NaN      5763.06       NaN       NaN\n",
       "2020-05-02         2830.71       NaN     NaN      5763.06       NaN       NaN\n",
       "2020-05-03         2830.71       NaN     NaN      5763.06       NaN       NaN\n",
       "2020-05-04         2842.74  17035.61  6673.3      5753.78  10466.80  14722.30\n",
       "2020-05-05         2868.44  17387.38  6747.7      5849.42  10729.46  14900.48\n",
       "2020-05-06         2848.42  17159.31  6671.7      5853.76  10606.20  14953.76"
      ]
     },
     "execution_count": 15,
     "metadata": {},
     "output_type": "execute_result"
    }
   ],
   "source": [
    "tendencias1 = tendencias.resample('D').ffill()\n",
    "\n",
    "tendencias1.tail(7)"
   ]
  },
  {
   "cell_type": "code",
   "execution_count": 16,
   "metadata": {},
   "outputs": [
    {
     "name": "stdout",
     "output_type": "stream",
     "text": [
      "<class 'pandas.core.frame.DataFrame'>\n",
      "DatetimeIndex: 366 entries, 2019-05-07 to 2020-05-06\n",
      "Freq: D\n",
      "Data columns (total 6 columns):\n",
      " #   Column          Non-Null Count  Dtype  \n",
      "---  ------          --------------  -----  \n",
      " 0   estados_unidos  360 non-null    float64\n",
      " 1   italia          356 non-null    float64\n",
      " 2   españa          361 non-null    float64\n",
      " 3   reino_unido     362 non-null    float64\n",
      " 4   alemania        355 non-null    float64\n",
      " 5   peru            345 non-null    float64\n",
      "dtypes: float64(6)\n",
      "memory usage: 20.0 KB\n"
     ]
    }
   ],
   "source": [
    "tendencias1.info()"
   ]
  },
  {
   "cell_type": "markdown",
   "metadata": {},
   "source": [
    "Vemos que ahora si tenemos la cantidad de entradas correspondientes a un año (bisiesto), pero todavía hay valores vacíos, correspondientes a los feriados ocurridos durante días de semana\n",
    "\n",
    "Estos los llenaremos usando el miso método, ya que la misma lógica se aplica"
   ]
  },
  {
   "cell_type": "code",
   "execution_count": 17,
   "metadata": {},
   "outputs": [
    {
     "data": {
      "text/html": [
       "<div>\n",
       "<style scoped>\n",
       "    .dataframe tbody tr th:only-of-type {\n",
       "        vertical-align: middle;\n",
       "    }\n",
       "\n",
       "    .dataframe tbody tr th {\n",
       "        vertical-align: top;\n",
       "    }\n",
       "\n",
       "    .dataframe thead th {\n",
       "        text-align: right;\n",
       "    }\n",
       "</style>\n",
       "<table border=\"1\" class=\"dataframe\">\n",
       "  <thead>\n",
       "    <tr style=\"text-align: right;\">\n",
       "      <th></th>\n",
       "      <th>estados_unidos</th>\n",
       "      <th>italia</th>\n",
       "      <th>españa</th>\n",
       "      <th>reino_unido</th>\n",
       "      <th>alemania</th>\n",
       "      <th>peru</th>\n",
       "    </tr>\n",
       "    <tr>\n",
       "      <th>date</th>\n",
       "      <th></th>\n",
       "      <th></th>\n",
       "      <th></th>\n",
       "      <th></th>\n",
       "      <th></th>\n",
       "      <th></th>\n",
       "    </tr>\n",
       "  </thead>\n",
       "  <tbody>\n",
       "    <tr>\n",
       "      <th>2020-04-30</th>\n",
       "      <td>2912.43</td>\n",
       "      <td>17690.49</td>\n",
       "      <td>6922.3</td>\n",
       "      <td>5901.21</td>\n",
       "      <td>10861.64</td>\n",
       "      <td>14779.28</td>\n",
       "    </tr>\n",
       "    <tr>\n",
       "      <th>2020-05-01</th>\n",
       "      <td>2830.71</td>\n",
       "      <td>17690.49</td>\n",
       "      <td>6922.3</td>\n",
       "      <td>5763.06</td>\n",
       "      <td>10861.64</td>\n",
       "      <td>14779.28</td>\n",
       "    </tr>\n",
       "    <tr>\n",
       "      <th>2020-05-02</th>\n",
       "      <td>2830.71</td>\n",
       "      <td>17690.49</td>\n",
       "      <td>6922.3</td>\n",
       "      <td>5763.06</td>\n",
       "      <td>10861.64</td>\n",
       "      <td>14779.28</td>\n",
       "    </tr>\n",
       "    <tr>\n",
       "      <th>2020-05-03</th>\n",
       "      <td>2830.71</td>\n",
       "      <td>17690.49</td>\n",
       "      <td>6922.3</td>\n",
       "      <td>5763.06</td>\n",
       "      <td>10861.64</td>\n",
       "      <td>14779.28</td>\n",
       "    </tr>\n",
       "    <tr>\n",
       "      <th>2020-05-04</th>\n",
       "      <td>2842.74</td>\n",
       "      <td>17035.61</td>\n",
       "      <td>6673.3</td>\n",
       "      <td>5753.78</td>\n",
       "      <td>10466.80</td>\n",
       "      <td>14722.30</td>\n",
       "    </tr>\n",
       "    <tr>\n",
       "      <th>2020-05-05</th>\n",
       "      <td>2868.44</td>\n",
       "      <td>17387.38</td>\n",
       "      <td>6747.7</td>\n",
       "      <td>5849.42</td>\n",
       "      <td>10729.46</td>\n",
       "      <td>14900.48</td>\n",
       "    </tr>\n",
       "    <tr>\n",
       "      <th>2020-05-06</th>\n",
       "      <td>2848.42</td>\n",
       "      <td>17159.31</td>\n",
       "      <td>6671.7</td>\n",
       "      <td>5853.76</td>\n",
       "      <td>10606.20</td>\n",
       "      <td>14953.76</td>\n",
       "    </tr>\n",
       "  </tbody>\n",
       "</table>\n",
       "</div>"
      ],
      "text/plain": [
       "            estados_unidos    italia  españa  reino_unido  alemania      peru\n",
       "date                                                                         \n",
       "2020-04-30         2912.43  17690.49  6922.3      5901.21  10861.64  14779.28\n",
       "2020-05-01         2830.71  17690.49  6922.3      5763.06  10861.64  14779.28\n",
       "2020-05-02         2830.71  17690.49  6922.3      5763.06  10861.64  14779.28\n",
       "2020-05-03         2830.71  17690.49  6922.3      5763.06  10861.64  14779.28\n",
       "2020-05-04         2842.74  17035.61  6673.3      5753.78  10466.80  14722.30\n",
       "2020-05-05         2868.44  17387.38  6747.7      5849.42  10729.46  14900.48\n",
       "2020-05-06         2848.42  17159.31  6671.7      5853.76  10606.20  14953.76"
      ]
     },
     "execution_count": 17,
     "metadata": {},
     "output_type": "execute_result"
    }
   ],
   "source": [
    "tendencias_19_20= tendencias1.fillna(method='ffill')\n",
    "    \n",
    "tendencias_19_20.tail(7)"
   ]
  },
  {
   "cell_type": "code",
   "execution_count": 18,
   "metadata": {},
   "outputs": [
    {
     "name": "stdout",
     "output_type": "stream",
     "text": [
      "<class 'pandas.core.frame.DataFrame'>\n",
      "DatetimeIndex: 366 entries, 2019-05-07 to 2020-05-06\n",
      "Freq: D\n",
      "Data columns (total 6 columns):\n",
      " #   Column          Non-Null Count  Dtype  \n",
      "---  ------          --------------  -----  \n",
      " 0   estados_unidos  366 non-null    float64\n",
      " 1   italia          366 non-null    float64\n",
      " 2   españa          366 non-null    float64\n",
      " 3   reino_unido     366 non-null    float64\n",
      " 4   alemania        366 non-null    float64\n",
      " 5   peru            366 non-null    float64\n",
      "dtypes: float64(6)\n",
      "memory usage: 20.0 KB\n"
     ]
    }
   ],
   "source": [
    "tendencias_19_20.info()"
   ]
  },
  {
   "cell_type": "markdown",
   "metadata": {},
   "source": [
    "Listo, ahora ya tenemos todos los registros sin valores vacíos\n",
    "\n",
    "Primero lo guardaremos en un Excel"
   ]
  },
  {
   "cell_type": "code",
   "execution_count": 19,
   "metadata": {},
   "outputs": [],
   "source": [
    "tendencias_19_20.to_excel('tendencias_19_20.xlsx')"
   ]
  },
  {
   "cell_type": "markdown",
   "metadata": {},
   "source": [
    "Pero además lo almacenaremos en una colección de MongoDB"
   ]
  },
  {
   "cell_type": "code",
   "execution_count": 20,
   "metadata": {},
   "outputs": [
    {
     "data": {
      "text/plain": [
       "date               object\n",
       "estados_unidos    float64\n",
       "italia            float64\n",
       "españa            float64\n",
       "reino_unido       float64\n",
       "alemania          float64\n",
       "peru              float64\n",
       "dtype: object"
      ]
     },
     "execution_count": 20,
     "metadata": {},
     "output_type": "execute_result"
    }
   ],
   "source": [
    "tendencias_19_20.index = [str(x) for x in tendencias_19_20.index]\n",
    "tendencias_19_20_ =tendencias_19_20.reset_index().rename(columns={'index':'date'})\n",
    "#Es necesario pasar las fechas a strings porque mongo no trabaja bien con datatimes\n",
    "tendencias_19_20_.dtypes"
   ]
  },
  {
   "cell_type": "code",
   "execution_count": 21,
   "metadata": {},
   "outputs": [],
   "source": [
    "myclient = MongoClient(\"mongodb://localhost:27017/\")\n",
    "mydb = myclient[\"TA\"]\n",
    "mycol = mydb[\"tend_19_20\"]\n",
    "\n",
    "mycol.drop()"
   ]
  },
  {
   "cell_type": "code",
   "execution_count": 22,
   "metadata": {},
   "outputs": [
    {
     "data": {
      "text/plain": [
       "<pymongo.results.InsertManyResult at 0x1c5aa1e4988>"
      ]
     },
     "execution_count": 22,
     "metadata": {},
     "output_type": "execute_result"
    }
   ],
   "source": [
    "records = json.loads(tendencias_19_20_.T.to_json()).values()\n",
    "mycol.insert_many(records)"
   ]
  },
  {
   "cell_type": "markdown",
   "metadata": {},
   "source": [
    "### tendencias_dec_jul"
   ]
  },
  {
   "cell_type": "markdown",
   "metadata": {},
   "source": [
    "Descripción de tendencias_dec_jul:\n",
    "\n",
    "    *year: el año al que hace referencia la sección, tipo int \n",
    "    *date: fecha de las operaciones, tipo datetime\n",
    "    *estados_unidos: valor de cierre del S&P 500 en la fecha indicada (en USD), tipo float\n",
    "    *italia: valor de cierre del FTSE-MIB en la fecha indicada (en EUR), tipo float\n",
    "    *españa: valor de cierre del IBEX 35 en la fecha indicada (en EUR), tipo float\n",
    "    *reino_unido: valor de cierre del FTSE 100 en la fecha indicada (en GBP), tipo float\n",
    "    *alemania: valor de cierre del DAX en la fecha indicada (en EUR), tipo float\n",
    "    *peru: valor de cierre del S&P/BVL en la fecha indicada (en PEN), tipo float    "
   ]
  },
  {
   "cell_type": "markdown",
   "metadata": {},
   "source": [
    "Solo es necesario correr las celdas comentadas si es la primera vez que usas el notebook en tu servidor"
   ]
  },
  {
   "cell_type": "code",
   "execution_count": 23,
   "metadata": {},
   "outputs": [
    {
     "data": {
      "text/plain": [
       "'\\nt_inicio = \\'12/01/\\'\\nt_final =\\'07/31/\\'\\n\\n#Vamos ha hacer los años hasta el 2019 separados a este, porque el de este año vaos a tener que estar acualizandolo,\\n#Y así no tenemosque correr tooodos los for todo el tiempo\\nconjunto = {}\\nfor i in range(2006,2019):   \\n\\n    anual={}\\n    for key, item in llaves.items():\\n        holder={\\'date\\':[], \\'close\\': []}\\n        \\n        inicio = t_inicio + str(i)\\n        final = t_final + str(i+1)\\n        \\n        form = {\\'curr_id\\': item[0], \\'smlID\\': item[1],\\'header\\': item[2], \\'st_date\\': inicio,\\n                \\'end_date\\': final, \\'interval_sec\\': \\'Daily\\', \\'sort_col\\': \\'date\\', \\'sort_ord\\': \\'DESC\\',\\'action\\': \\'historical_data\\'}\\n        response = requests.post(url,data=form,headers=header).text.replace(\\'\\n\\', \\'\\')\\n        soup = BeautifulSoup(response,\\'html.parser\\')\\n        \\n        table =soup.find(\"table\", id=\"curr_table\")\\n        dataraw = table.tbody.find_all(\"tr\")\\n        for data in dataraw:\\n            cosas = data.find_all(\\'td\\')\\n            holder[\\'date\\'].append(cosas[0].text)\\n            holder[\\'close\\'].append(cosas[1].text)\\n        \\n        anual[key]=holder\\n    conjunto[str(i+1)]=anual\\n'"
      ]
     },
     "execution_count": 23,
     "metadata": {},
     "output_type": "execute_result"
    }
   ],
   "source": [
    "'''\n",
    "t_inicio = '12/01/'\n",
    "t_final ='07/31/'\n",
    "\n",
    "#Vamos ha hacer los años hasta el 2019 separados a este, porque el de este año vaos a tener que estar acualizandolo,\n",
    "#Y así no tenemosque correr tooodos los for todo el tiempo\n",
    "conjunto = {}\n",
    "for i in range(2006,2019):   \n",
    "\n",
    "    anual={}\n",
    "    for key, item in llaves.items():\n",
    "        holder={'date':[], 'close': []}\n",
    "        \n",
    "        inicio = t_inicio + str(i)\n",
    "        final = t_final + str(i+1)\n",
    "        \n",
    "        form = {'curr_id': item[0], 'smlID': item[1],'header': item[2], 'st_date': inicio,\n",
    "                'end_date': final, 'interval_sec': 'Daily', 'sort_col': 'date', 'sort_ord': 'DESC','action': 'historical_data'}\n",
    "        response = requests.post(url,data=form,headers=header).text.replace('\\n', '')\n",
    "        soup = BeautifulSoup(response,'html.parser')\n",
    "        \n",
    "        table =soup.find(\"table\", id=\"curr_table\")\n",
    "        dataraw = table.tbody.find_all(\"tr\")\n",
    "        for data in dataraw:\n",
    "            cosas = data.find_all('td')\n",
    "            holder['date'].append(cosas[0].text)\n",
    "            holder['close'].append(cosas[1].text)\n",
    "        \n",
    "        anual[key]=holder\n",
    "    conjunto[str(i+1)]=anual\n",
    "'''"
   ]
  },
  {
   "cell_type": "code",
   "execution_count": 24,
   "metadata": {},
   "outputs": [
    {
     "data": {
      "text/plain": [
       "\"\\n#Para no tener que estar corriendolo a cada rato vamos a guardalro en un json\\nwith open('2007_2019.json', 'w') as fp:\\n    json.dump(conjunto, fp)\\n\""
      ]
     },
     "execution_count": 24,
     "metadata": {},
     "output_type": "execute_result"
    }
   ],
   "source": [
    "'''\n",
    "#Para no tener que estar corriendolo a cada rato vamos a guardalro en un json\n",
    "with open('2007_2019.json', 'w') as fp:\n",
    "    json.dump(conjunto, fp)\n",
    "'''"
   ]
  },
  {
   "cell_type": "code",
   "execution_count": 25,
   "metadata": {},
   "outputs": [
    {
     "data": {
      "text/plain": [
       "172"
      ]
     },
     "execution_count": 25,
     "metadata": {},
     "output_type": "execute_result"
    }
   ],
   "source": [
    "#Ahora recuperamos nuestra nuestra info\n",
    "with open('2007_2019.json', 'r') as fp:\n",
    "    conjunto = json.load(fp)\n",
    "    \n",
    "len(conjunto['2007']['ITALIA']['close'])"
   ]
  },
  {
   "cell_type": "code",
   "execution_count": 26,
   "metadata": {},
   "outputs": [],
   "source": [
    "#Ahora saquemos la info de este año\n",
    "\n",
    "final = datetime.today() - timedelta(days=1)\n",
    "final = final.strftime('%m/%d/%Y')\n",
    "\n",
    "conj2020={}\n",
    "for key, item in llaves.items():\n",
    "    \n",
    "    venn2020={'date':[],'close':[]}\n",
    "    \n",
    "    form = {'curr_id': item[0], 'smlID': item[1],'header': item[2], 'st_date': '12/01/2019',\n",
    "                'end_date': final, 'interval_sec': 'Daily', 'sort_col': 'date', 'sort_ord': 'DESC','action': 'historical_data'}\n",
    "    response = requests.post(url,data=form,headers=header).text.replace('\\n', '')\n",
    "    soup = BeautifulSoup(response,'html.parser')\n",
    "        \n",
    "    table =soup.find(\"table\", id=\"curr_table\")\n",
    "    dataraw = table.tbody.find_all(\"tr\")\n",
    "    \n",
    "    for data in dataraw:\n",
    "        cosas = data.find_all('td')\n",
    "        venn2020['date'].append(cosas[0].text)\n",
    "        venn2020['close'].append(cosas[1].text)\n",
    "        \n",
    "    conj2020[key]=venn2020\n",
    "    \n",
    "conjunto['2020'] = conj2020"
   ]
  },
  {
   "cell_type": "code",
   "execution_count": 27,
   "metadata": {},
   "outputs": [
    {
     "data": {
      "text/plain": [
       "14"
      ]
     },
     "execution_count": 27,
     "metadata": {},
     "output_type": "execute_result"
    }
   ],
   "source": [
    "grandes=[]\n",
    "for keys, itemo in conjunto.items():\n",
    "    pedazos=[]\n",
    "    for llavecita, cosa in itemo.items():\n",
    "        data = pd.DataFrame(cosa)\n",
    "        data['date'] = pd.to_datetime(data['date']) \n",
    "        data1 = data.set_index('date', drop=True)\n",
    "        data1.columns = [llavecita.lower()]\n",
    "        pedazos.append(data1)\n",
    "    \n",
    "    #Aplicamos los mismos métodos de resampling y llenado de datos que usamos en tendencias_19_20\n",
    "    junto= pd.concat(pedazos,axis=1)\n",
    "    junto= junto.resample('D').ffill()\n",
    "    junto =junto.fillna(method='ffill')\n",
    "    \n",
    "    #Para los datos vaciós que queden (aquellos en los cuales el 01 de dicimebre fue fin de semana) usaremos 'bfill'\n",
    "    junto =junto.fillna(method='bfill')    \n",
    "    \n",
    "    año = [int(keys) for x in junto.index ]\n",
    "    juntos = junto.reset_index()\n",
    "    juntos.insert(0,'year',año)\n",
    "    juntos1 = juntos.set_index(['year','date'])\n",
    "    for col in juntos1.columns:\n",
    "        juntos1[col]=[float(x.replace(',','')) for x in juntos1[col]]\n",
    "    \n",
    "    grandes.append(juntos1)\n",
    "\n",
    "len(grandes)"
   ]
  },
  {
   "cell_type": "code",
   "execution_count": 28,
   "metadata": {},
   "outputs": [
    {
     "data": {
      "text/html": [
       "<div>\n",
       "<style scoped>\n",
       "    .dataframe tbody tr th:only-of-type {\n",
       "        vertical-align: middle;\n",
       "    }\n",
       "\n",
       "    .dataframe tbody tr th {\n",
       "        vertical-align: top;\n",
       "    }\n",
       "\n",
       "    .dataframe thead th {\n",
       "        text-align: right;\n",
       "    }\n",
       "</style>\n",
       "<table border=\"1\" class=\"dataframe\">\n",
       "  <thead>\n",
       "    <tr style=\"text-align: right;\">\n",
       "      <th></th>\n",
       "      <th></th>\n",
       "      <th>estados_unidos</th>\n",
       "      <th>italia</th>\n",
       "      <th>españa</th>\n",
       "      <th>reino_unido</th>\n",
       "      <th>alemania</th>\n",
       "    </tr>\n",
       "    <tr>\n",
       "      <th>year</th>\n",
       "      <th>date</th>\n",
       "      <th></th>\n",
       "      <th></th>\n",
       "      <th></th>\n",
       "      <th></th>\n",
       "      <th></th>\n",
       "    </tr>\n",
       "  </thead>\n",
       "  <tbody>\n",
       "    <tr>\n",
       "      <th rowspan=\"5\" valign=\"top\">2007</th>\n",
       "      <th>2006-12-01</th>\n",
       "      <td>1396.71</td>\n",
       "      <td>39949.00</td>\n",
       "      <td>13660.6</td>\n",
       "      <td>6021.50</td>\n",
       "      <td>6241.13</td>\n",
       "    </tr>\n",
       "    <tr>\n",
       "      <th>2006-12-02</th>\n",
       "      <td>1396.71</td>\n",
       "      <td>39949.00</td>\n",
       "      <td>13660.6</td>\n",
       "      <td>6021.50</td>\n",
       "      <td>6241.13</td>\n",
       "    </tr>\n",
       "    <tr>\n",
       "      <th>2006-12-03</th>\n",
       "      <td>1396.71</td>\n",
       "      <td>39949.00</td>\n",
       "      <td>13660.6</td>\n",
       "      <td>6021.50</td>\n",
       "      <td>6241.13</td>\n",
       "    </tr>\n",
       "    <tr>\n",
       "      <th>2006-12-04</th>\n",
       "      <td>1409.12</td>\n",
       "      <td>40155.00</td>\n",
       "      <td>13846.4</td>\n",
       "      <td>6050.40</td>\n",
       "      <td>6295.23</td>\n",
       "    </tr>\n",
       "    <tr>\n",
       "      <th>2006-12-05</th>\n",
       "      <td>1414.76</td>\n",
       "      <td>40408.00</td>\n",
       "      <td>14032.5</td>\n",
       "      <td>6086.40</td>\n",
       "      <td>6372.80</td>\n",
       "    </tr>\n",
       "    <tr>\n",
       "      <th>...</th>\n",
       "      <th>...</th>\n",
       "      <td>...</td>\n",
       "      <td>...</td>\n",
       "      <td>...</td>\n",
       "      <td>...</td>\n",
       "      <td>...</td>\n",
       "    </tr>\n",
       "    <tr>\n",
       "      <th rowspan=\"5\" valign=\"top\">2020</th>\n",
       "      <th>2020-07-10</th>\n",
       "      <td>3185.04</td>\n",
       "      <td>19767.60</td>\n",
       "      <td>7321.1</td>\n",
       "      <td>6095.41</td>\n",
       "      <td>12633.71</td>\n",
       "    </tr>\n",
       "    <tr>\n",
       "      <th>2020-07-11</th>\n",
       "      <td>3185.04</td>\n",
       "      <td>19767.60</td>\n",
       "      <td>7321.1</td>\n",
       "      <td>6095.41</td>\n",
       "      <td>12633.71</td>\n",
       "    </tr>\n",
       "    <tr>\n",
       "      <th>2020-07-12</th>\n",
       "      <td>3185.04</td>\n",
       "      <td>19767.60</td>\n",
       "      <td>7321.1</td>\n",
       "      <td>6095.41</td>\n",
       "      <td>12633.71</td>\n",
       "    </tr>\n",
       "    <tr>\n",
       "      <th>2020-07-13</th>\n",
       "      <td>3155.22</td>\n",
       "      <td>20003.25</td>\n",
       "      <td>7426.9</td>\n",
       "      <td>6176.19</td>\n",
       "      <td>12799.97</td>\n",
       "    </tr>\n",
       "    <tr>\n",
       "      <th>2020-07-14</th>\n",
       "      <td>3197.52</td>\n",
       "      <td>19879.75</td>\n",
       "      <td>7352.0</td>\n",
       "      <td>6179.75</td>\n",
       "      <td>12697.36</td>\n",
       "    </tr>\n",
       "  </tbody>\n",
       "</table>\n",
       "<p>3377 rows × 5 columns</p>\n",
       "</div>"
      ],
      "text/plain": [
       "                 estados_unidos    italia   españa  reino_unido  alemania\n",
       "year date                                                                \n",
       "2007 2006-12-01         1396.71  39949.00  13660.6      6021.50   6241.13\n",
       "     2006-12-02         1396.71  39949.00  13660.6      6021.50   6241.13\n",
       "     2006-12-03         1396.71  39949.00  13660.6      6021.50   6241.13\n",
       "     2006-12-04         1409.12  40155.00  13846.4      6050.40   6295.23\n",
       "     2006-12-05         1414.76  40408.00  14032.5      6086.40   6372.80\n",
       "...                         ...       ...      ...          ...       ...\n",
       "2020 2020-07-10         3185.04  19767.60   7321.1      6095.41  12633.71\n",
       "     2020-07-11         3185.04  19767.60   7321.1      6095.41  12633.71\n",
       "     2020-07-12         3185.04  19767.60   7321.1      6095.41  12633.71\n",
       "     2020-07-13         3155.22  20003.25   7426.9      6176.19  12799.97\n",
       "     2020-07-14         3197.52  19879.75   7352.0      6179.75  12697.36\n",
       "\n",
       "[3377 rows x 5 columns]"
      ]
     },
     "execution_count": 28,
     "metadata": {},
     "output_type": "execute_result"
    }
   ],
   "source": [
    "tendencias_sinpe = pd.concat(grandes)\n",
    "                            \n",
    "tendencias_sinpe"
   ]
  },
  {
   "cell_type": "code",
   "execution_count": 29,
   "metadata": {},
   "outputs": [
    {
     "name": "stdout",
     "output_type": "stream",
     "text": [
      "<class 'pandas.core.frame.DataFrame'>\n",
      "MultiIndex: 3377 entries, (2007, Timestamp('2006-12-01 00:00:00')) to (2020, Timestamp('2020-07-14 00:00:00'))\n",
      "Data columns (total 5 columns):\n",
      " #   Column          Non-Null Count  Dtype  \n",
      "---  ------          --------------  -----  \n",
      " 0   estados_unidos  3377 non-null   float64\n",
      " 1   italia          3377 non-null   float64\n",
      " 2   españa          3377 non-null   float64\n",
      " 3   reino_unido     3377 non-null   float64\n",
      " 4   alemania        3377 non-null   float64\n",
      "dtypes: float64(5)\n",
      "memory usage: 168.4 KB\n"
     ]
    }
   ],
   "source": [
    "tendencias_sinpe.info()"
   ]
  },
  {
   "cell_type": "markdown",
   "metadata": {},
   "source": [
    "Ahora sacaremos la info de perú"
   ]
  },
  {
   "cell_type": "code",
   "execution_count": 30,
   "metadata": {},
   "outputs": [],
   "source": [
    "#Como este no demora muco en correr, vamos a incluir el 2020 aquí\n",
    "df_principal =''\n",
    "for i in range(2006,2020):   \n",
    "    holder={'date':[], 'close': []}\n",
    "    if i == 2019:\n",
    "        final_pe = datetime.today() - timedelta(days=1)\n",
    "    else:\n",
    "        final_pe = datetime(i+1,8,1)\n",
    "    \n",
    "    inicio_pe = datetime(i,12,1)\n",
    "        \n",
    "    hasta_pe = int(final_pe.timestamp())\n",
    "    desde_pe = int(inicio_pe.timestamp())\n",
    "    \n",
    "    url_pe = url_base + ticket_p['PERU'] +'?period1=' + str(desde_pe) + '&period2=' + str(hasta_pe) + '&interval=' + intervalo_p + '&events=history'\n",
    "        \n",
    "    df_pe = pd.read_csv(url_pe, parse_dates=['Date'])\n",
    "\n",
    "    df_perux = df_pe.copy()\n",
    "    df_perux = df_perux.iloc[:,[0,4]]\n",
    "\n",
    "    df_perux.columns = ['date','peru']\n",
    "    df_perux['peru'] = [round(x,2) for x in df_perux['peru']]\n",
    "    df_peru1x = df_perux.set_index('date')\n",
    "    \n",
    "    df_peru1x = df_peru1x.resample('D').ffill()\n",
    "    df_peru1x =df_peru1x.fillna(method='ffill')\n",
    "    \n",
    "    #Para los datos vaciós que queden (aquellos en los cuales el 01 de dicimebre fue fin de semana) usaremos 'bfill'\n",
    "    df_peru1x =df_peru1x.fillna(method='bfill')   \n",
    "    \n",
    "    año = [i+1 for x in df_peru1x.index]\n",
    "    df_peru2x = df_peru1x.reset_index()\n",
    "    df_peru2x.insert(0,'year',año)\n",
    "    df_peru3x = df_peru2x.set_index(['year','date'])\n",
    "    \n",
    "    if i==2006:\n",
    "        df_principal = df_peru3x.copy()\n",
    "    else:\n",
    "        df_principal = pd.concat([df_principal,df_peru3x])\n"
   ]
  },
  {
   "cell_type": "code",
   "execution_count": 31,
   "metadata": {},
   "outputs": [
    {
     "data": {
      "text/html": [
       "<div>\n",
       "<style scoped>\n",
       "    .dataframe tbody tr th:only-of-type {\n",
       "        vertical-align: middle;\n",
       "    }\n",
       "\n",
       "    .dataframe tbody tr th {\n",
       "        vertical-align: top;\n",
       "    }\n",
       "\n",
       "    .dataframe thead th {\n",
       "        text-align: right;\n",
       "    }\n",
       "</style>\n",
       "<table border=\"1\" class=\"dataframe\">\n",
       "  <thead>\n",
       "    <tr style=\"text-align: right;\">\n",
       "      <th></th>\n",
       "      <th></th>\n",
       "      <th>estados_unidos</th>\n",
       "      <th>italia</th>\n",
       "      <th>españa</th>\n",
       "      <th>reino_unido</th>\n",
       "      <th>alemania</th>\n",
       "      <th>peru</th>\n",
       "    </tr>\n",
       "    <tr>\n",
       "      <th>year</th>\n",
       "      <th>date</th>\n",
       "      <th></th>\n",
       "      <th></th>\n",
       "      <th></th>\n",
       "      <th></th>\n",
       "      <th></th>\n",
       "      <th></th>\n",
       "    </tr>\n",
       "  </thead>\n",
       "  <tbody>\n",
       "    <tr>\n",
       "      <th rowspan=\"5\" valign=\"top\">2007</th>\n",
       "      <th>2006-12-01</th>\n",
       "      <td>1396.71</td>\n",
       "      <td>39949.00</td>\n",
       "      <td>13660.6</td>\n",
       "      <td>6021.50</td>\n",
       "      <td>6241.13</td>\n",
       "      <td>11535.41</td>\n",
       "    </tr>\n",
       "    <tr>\n",
       "      <th>2006-12-02</th>\n",
       "      <td>1396.71</td>\n",
       "      <td>39949.00</td>\n",
       "      <td>13660.6</td>\n",
       "      <td>6021.50</td>\n",
       "      <td>6241.13</td>\n",
       "      <td>11535.41</td>\n",
       "    </tr>\n",
       "    <tr>\n",
       "      <th>2006-12-03</th>\n",
       "      <td>1396.71</td>\n",
       "      <td>39949.00</td>\n",
       "      <td>13660.6</td>\n",
       "      <td>6021.50</td>\n",
       "      <td>6241.13</td>\n",
       "      <td>11535.41</td>\n",
       "    </tr>\n",
       "    <tr>\n",
       "      <th>2006-12-04</th>\n",
       "      <td>1409.12</td>\n",
       "      <td>40155.00</td>\n",
       "      <td>13846.4</td>\n",
       "      <td>6050.40</td>\n",
       "      <td>6295.23</td>\n",
       "      <td>11649.51</td>\n",
       "    </tr>\n",
       "    <tr>\n",
       "      <th>2006-12-05</th>\n",
       "      <td>1414.76</td>\n",
       "      <td>40408.00</td>\n",
       "      <td>14032.5</td>\n",
       "      <td>6086.40</td>\n",
       "      <td>6372.80</td>\n",
       "      <td>11713.62</td>\n",
       "    </tr>\n",
       "    <tr>\n",
       "      <th>...</th>\n",
       "      <th>...</th>\n",
       "      <td>...</td>\n",
       "      <td>...</td>\n",
       "      <td>...</td>\n",
       "      <td>...</td>\n",
       "      <td>...</td>\n",
       "      <td>...</td>\n",
       "    </tr>\n",
       "    <tr>\n",
       "      <th rowspan=\"5\" valign=\"top\">2020</th>\n",
       "      <th>2020-07-10</th>\n",
       "      <td>3185.04</td>\n",
       "      <td>19767.60</td>\n",
       "      <td>7321.1</td>\n",
       "      <td>6095.41</td>\n",
       "      <td>12633.71</td>\n",
       "      <td>16671.15</td>\n",
       "    </tr>\n",
       "    <tr>\n",
       "      <th>2020-07-11</th>\n",
       "      <td>3185.04</td>\n",
       "      <td>19767.60</td>\n",
       "      <td>7321.1</td>\n",
       "      <td>6095.41</td>\n",
       "      <td>12633.71</td>\n",
       "      <td>16671.15</td>\n",
       "    </tr>\n",
       "    <tr>\n",
       "      <th>2020-07-12</th>\n",
       "      <td>3185.04</td>\n",
       "      <td>19767.60</td>\n",
       "      <td>7321.1</td>\n",
       "      <td>6095.41</td>\n",
       "      <td>12633.71</td>\n",
       "      <td>16671.15</td>\n",
       "    </tr>\n",
       "    <tr>\n",
       "      <th>2020-07-13</th>\n",
       "      <td>3155.22</td>\n",
       "      <td>20003.25</td>\n",
       "      <td>7426.9</td>\n",
       "      <td>6176.19</td>\n",
       "      <td>12799.97</td>\n",
       "      <td>16646.36</td>\n",
       "    </tr>\n",
       "    <tr>\n",
       "      <th>2020-07-14</th>\n",
       "      <td>3197.52</td>\n",
       "      <td>19879.75</td>\n",
       "      <td>7352.0</td>\n",
       "      <td>6179.75</td>\n",
       "      <td>12697.36</td>\n",
       "      <td>16574.72</td>\n",
       "    </tr>\n",
       "  </tbody>\n",
       "</table>\n",
       "<p>3377 rows × 6 columns</p>\n",
       "</div>"
      ],
      "text/plain": [
       "                 estados_unidos    italia   españa  reino_unido  alemania  \\\n",
       "year date                                                                   \n",
       "2007 2006-12-01         1396.71  39949.00  13660.6      6021.50   6241.13   \n",
       "     2006-12-02         1396.71  39949.00  13660.6      6021.50   6241.13   \n",
       "     2006-12-03         1396.71  39949.00  13660.6      6021.50   6241.13   \n",
       "     2006-12-04         1409.12  40155.00  13846.4      6050.40   6295.23   \n",
       "     2006-12-05         1414.76  40408.00  14032.5      6086.40   6372.80   \n",
       "...                         ...       ...      ...          ...       ...   \n",
       "2020 2020-07-10         3185.04  19767.60   7321.1      6095.41  12633.71   \n",
       "     2020-07-11         3185.04  19767.60   7321.1      6095.41  12633.71   \n",
       "     2020-07-12         3185.04  19767.60   7321.1      6095.41  12633.71   \n",
       "     2020-07-13         3155.22  20003.25   7426.9      6176.19  12799.97   \n",
       "     2020-07-14         3197.52  19879.75   7352.0      6179.75  12697.36   \n",
       "\n",
       "                     peru  \n",
       "year date                  \n",
       "2007 2006-12-01  11535.41  \n",
       "     2006-12-02  11535.41  \n",
       "     2006-12-03  11535.41  \n",
       "     2006-12-04  11649.51  \n",
       "     2006-12-05  11713.62  \n",
       "...                   ...  \n",
       "2020 2020-07-10  16671.15  \n",
       "     2020-07-11  16671.15  \n",
       "     2020-07-12  16671.15  \n",
       "     2020-07-13  16646.36  \n",
       "     2020-07-14  16574.72  \n",
       "\n",
       "[3377 rows x 6 columns]"
      ]
     },
     "execution_count": 31,
     "metadata": {},
     "output_type": "execute_result"
    }
   ],
   "source": [
    "tendencias_dec_jul = pd.concat([tendencias_sinpe,df_principal],axis=1)\n",
    "tendencias_dec_jul"
   ]
  },
  {
   "cell_type": "code",
   "execution_count": 32,
   "metadata": {},
   "outputs": [
    {
     "name": "stdout",
     "output_type": "stream",
     "text": [
      "<class 'pandas.core.frame.DataFrame'>\n",
      "MultiIndex: 3377 entries, (2007, Timestamp('2006-12-01 00:00:00')) to (2020, Timestamp('2020-07-14 00:00:00'))\n",
      "Data columns (total 6 columns):\n",
      " #   Column          Non-Null Count  Dtype  \n",
      "---  ------          --------------  -----  \n",
      " 0   estados_unidos  3377 non-null   float64\n",
      " 1   italia          3377 non-null   float64\n",
      " 2   españa          3377 non-null   float64\n",
      " 3   reino_unido     3377 non-null   float64\n",
      " 4   alemania        3377 non-null   float64\n",
      " 5   peru            3376 non-null   float64\n",
      "dtypes: float64(6)\n",
      "memory usage: 194.8 KB\n"
     ]
    }
   ],
   "source": [
    "tendencias_dec_jul.info()"
   ]
  },
  {
   "cell_type": "markdown",
   "metadata": {},
   "source": [
    "Parece que hay un valor nulo en 'peru'"
   ]
  },
  {
   "cell_type": "code",
   "execution_count": 33,
   "metadata": {},
   "outputs": [
    {
     "data": {
      "text/html": [
       "<div>\n",
       "<style scoped>\n",
       "    .dataframe tbody tr th:only-of-type {\n",
       "        vertical-align: middle;\n",
       "    }\n",
       "\n",
       "    .dataframe tbody tr th {\n",
       "        vertical-align: top;\n",
       "    }\n",
       "\n",
       "    .dataframe thead th {\n",
       "        text-align: right;\n",
       "    }\n",
       "</style>\n",
       "<table border=\"1\" class=\"dataframe\">\n",
       "  <thead>\n",
       "    <tr style=\"text-align: right;\">\n",
       "      <th></th>\n",
       "      <th></th>\n",
       "      <th>estados_unidos</th>\n",
       "      <th>italia</th>\n",
       "      <th>españa</th>\n",
       "      <th>reino_unido</th>\n",
       "      <th>alemania</th>\n",
       "      <th>peru</th>\n",
       "    </tr>\n",
       "    <tr>\n",
       "      <th>year</th>\n",
       "      <th>date</th>\n",
       "      <th></th>\n",
       "      <th></th>\n",
       "      <th></th>\n",
       "      <th></th>\n",
       "      <th></th>\n",
       "      <th></th>\n",
       "    </tr>\n",
       "  </thead>\n",
       "  <tbody>\n",
       "    <tr>\n",
       "      <th>2014</th>\n",
       "      <th>2013-12-01</th>\n",
       "      <td>1800.9</td>\n",
       "      <td>19091.3</td>\n",
       "      <td>9745.5</td>\n",
       "      <td>6595.33</td>\n",
       "      <td>9401.96</td>\n",
       "      <td>NaN</td>\n",
       "    </tr>\n",
       "  </tbody>\n",
       "</table>\n",
       "</div>"
      ],
      "text/plain": [
       "                 estados_unidos   italia  españa  reino_unido  alemania  peru\n",
       "year date                                                                    \n",
       "2014 2013-12-01          1800.9  19091.3  9745.5      6595.33   9401.96   NaN"
      ]
     },
     "execution_count": 33,
     "metadata": {},
     "output_type": "execute_result"
    }
   ],
   "source": [
    "tendencias_dec_jul[tendencias_dec_jul.peru.isnull()]"
   ]
  },
  {
   "cell_type": "markdown",
   "metadata": {},
   "source": [
    "El 1 de dicimebre de 2013 fue domingo, curiosamente todos mercados aparte de Perú parecen haber operado ese día. UYa que sólo es un dato, usaremos el método 'bfill' para llenarlo"
   ]
  },
  {
   "cell_type": "code",
   "execution_count": 34,
   "metadata": {},
   "outputs": [
    {
     "data": {
      "text/html": [
       "<div>\n",
       "<style scoped>\n",
       "    .dataframe tbody tr th:only-of-type {\n",
       "        vertical-align: middle;\n",
       "    }\n",
       "\n",
       "    .dataframe tbody tr th {\n",
       "        vertical-align: top;\n",
       "    }\n",
       "\n",
       "    .dataframe thead th {\n",
       "        text-align: right;\n",
       "    }\n",
       "</style>\n",
       "<table border=\"1\" class=\"dataframe\">\n",
       "  <thead>\n",
       "    <tr style=\"text-align: right;\">\n",
       "      <th></th>\n",
       "      <th></th>\n",
       "      <th>estados_unidos</th>\n",
       "      <th>italia</th>\n",
       "      <th>españa</th>\n",
       "      <th>reino_unido</th>\n",
       "      <th>alemania</th>\n",
       "      <th>peru</th>\n",
       "    </tr>\n",
       "    <tr>\n",
       "      <th>year</th>\n",
       "      <th>date</th>\n",
       "      <th></th>\n",
       "      <th></th>\n",
       "      <th></th>\n",
       "      <th></th>\n",
       "      <th></th>\n",
       "      <th></th>\n",
       "    </tr>\n",
       "  </thead>\n",
       "  <tbody>\n",
       "    <tr>\n",
       "      <th rowspan=\"3\" valign=\"top\">2014</th>\n",
       "      <th>2013-12-01</th>\n",
       "      <td>1800.90</td>\n",
       "      <td>19091.30</td>\n",
       "      <td>9745.5</td>\n",
       "      <td>6595.33</td>\n",
       "      <td>9401.96</td>\n",
       "      <td>15142.06</td>\n",
       "    </tr>\n",
       "    <tr>\n",
       "      <th>2013-12-02</th>\n",
       "      <td>1800.90</td>\n",
       "      <td>18732.56</td>\n",
       "      <td>9745.5</td>\n",
       "      <td>6595.33</td>\n",
       "      <td>9401.96</td>\n",
       "      <td>15142.06</td>\n",
       "    </tr>\n",
       "    <tr>\n",
       "      <th>2013-12-03</th>\n",
       "      <td>1795.15</td>\n",
       "      <td>18366.75</td>\n",
       "      <td>9605.0</td>\n",
       "      <td>6532.43</td>\n",
       "      <td>9223.40</td>\n",
       "      <td>14767.72</td>\n",
       "    </tr>\n",
       "  </tbody>\n",
       "</table>\n",
       "</div>"
      ],
      "text/plain": [
       "                 estados_unidos    italia  españa  reino_unido  alemania  \\\n",
       "year date                                                                  \n",
       "2014 2013-12-01         1800.90  19091.30  9745.5      6595.33   9401.96   \n",
       "     2013-12-02         1800.90  18732.56  9745.5      6595.33   9401.96   \n",
       "     2013-12-03         1795.15  18366.75  9605.0      6532.43   9223.40   \n",
       "\n",
       "                     peru  \n",
       "year date                  \n",
       "2014 2013-12-01  15142.06  \n",
       "     2013-12-02  15142.06  \n",
       "     2013-12-03  14767.72  "
      ]
     },
     "execution_count": 34,
     "metadata": {},
     "output_type": "execute_result"
    }
   ],
   "source": [
    "tendencias_dec_jul = tendencias_dec_jul.fillna(method='bfill')\n",
    "\n",
    "tendencias_dec_jul.sort_index(level=['year','date'], ascending=True, inplace=True)\n",
    "tendencias_dec_jul.loc[(2014,'2013-12-01'):(2014,'2013-12-03'), :]"
   ]
  },
  {
   "cell_type": "code",
   "execution_count": 35,
   "metadata": {},
   "outputs": [
    {
     "name": "stdout",
     "output_type": "stream",
     "text": [
      "<class 'pandas.core.frame.DataFrame'>\n",
      "MultiIndex: 3377 entries, (2007, Timestamp('2006-12-01 00:00:00')) to (2020, Timestamp('2020-07-14 00:00:00'))\n",
      "Data columns (total 6 columns):\n",
      " #   Column          Non-Null Count  Dtype  \n",
      "---  ------          --------------  -----  \n",
      " 0   estados_unidos  3377 non-null   float64\n",
      " 1   italia          3377 non-null   float64\n",
      " 2   españa          3377 non-null   float64\n",
      " 3   reino_unido     3377 non-null   float64\n",
      " 4   alemania        3377 non-null   float64\n",
      " 5   peru            3377 non-null   float64\n",
      "dtypes: float64(6)\n",
      "memory usage: 355.4 KB\n"
     ]
    }
   ],
   "source": [
    "tendencias_dec_jul.info()"
   ]
  },
  {
   "cell_type": "markdown",
   "metadata": {},
   "source": [
    "Listo"
   ]
  },
  {
   "cell_type": "code",
   "execution_count": 36,
   "metadata": {},
   "outputs": [],
   "source": [
    "tendencias_dec_jul.to_excel('tendencias_dec_jul.xlsx')"
   ]
  },
  {
   "cell_type": "markdown",
   "metadata": {},
   "source": [
    "Rstos también los almacenaremos en un MongoDB"
   ]
  },
  {
   "cell_type": "code",
   "execution_count": 37,
   "metadata": {},
   "outputs": [
    {
     "data": {
      "text/plain": [
       "year                int64\n",
       "date               object\n",
       "estados_unidos    float64\n",
       "italia            float64\n",
       "españa            float64\n",
       "reino_unido       float64\n",
       "alemania          float64\n",
       "peru              float64\n",
       "dtype: object"
      ]
     },
     "execution_count": 37,
     "metadata": {},
     "output_type": "execute_result"
    }
   ],
   "source": [
    "tendencias_dec_jul_=tendencias_dec_jul.reset_index()\n",
    "tendencias_dec_jul_['date']=[str(x) for x in tendencias_dec_jul_['date']]\n",
    "#Es necesario pasar las fechas a strings porque mongo no trabaja bien con datatimes\n",
    "tendencias_dec_jul_.dtypes"
   ]
  },
  {
   "cell_type": "code",
   "execution_count": 38,
   "metadata": {},
   "outputs": [
    {
     "data": {
      "text/plain": [
       "<pymongo.results.InsertManyResult at 0x1c5aaf514c8>"
      ]
     },
     "execution_count": 38,
     "metadata": {},
     "output_type": "execute_result"
    }
   ],
   "source": [
    "mycol = mydb[\"tend_dec_jul\"]\n",
    "\n",
    "mycol.drop()\n",
    "\n",
    "records = json.loads(tendencias_dec_jul_.T.to_json()).values()\n",
    "mycol.insert_many(records)"
   ]
  },
  {
   "cell_type": "code",
   "execution_count": null,
   "metadata": {},
   "outputs": [],
   "source": []
  }
 ],
 "metadata": {
  "kernelspec": {
   "display_name": "Python 3",
   "language": "python",
   "name": "python3"
  },
  "language_info": {
   "codemirror_mode": {
    "name": "ipython",
    "version": 3
   },
   "file_extension": ".py",
   "mimetype": "text/x-python",
   "name": "python",
   "nbconvert_exporter": "python",
   "pygments_lexer": "ipython3",
   "version": "3.7.7"
  }
 },
 "nbformat": 4,
 "nbformat_minor": 4
}
